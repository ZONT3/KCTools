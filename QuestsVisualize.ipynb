{
 "cells": [
  {
   "cell_type": "markdown",
   "metadata": {
    "pycharm": {
     "name": "#%% md\n"
    }
   },
   "source": [
    "# Code"
   ]
  },
  {
   "cell_type": "code",
   "execution_count": 1,
   "metadata": {
    "pycharm": {
     "name": "#%%\n"
    }
   },
   "outputs": [],
   "source": [
    "import json\n",
    "from urllib.request import urlopen\n",
    "from IPython.display import display, Markdown\n",
    "from quests import QuestData"
   ]
  },
  {
   "cell_type": "code",
   "execution_count": null,
   "outputs": [],
   "source": [
    "# Data exported from kc3kai\n",
    "kc3data = r\"D:\\Users\\ZONT_\\Downloads\\[9095073] Profile 2022-12-04.kc3\"\n",
    "with open(kc3data) as fd:\n",
    "    kc3data = json.load(fd)\n",
    "quests_my = kc3data['quests']\n",
    "quests_my = {str(data['id']): data for id, data in quests_my.items()}\n",
    "\n",
    "quests_data = 'https://raw.githubusercontent.com/KC3Kai/kc3-translations/master/data/en/quests.json'\n",
    "with urlopen(quests_data) as fd:\n",
    "    quests_data = json.load(fd)\n",
    "\n",
    "qd = QuestData(quests_data, quests_my)"
   ],
   "metadata": {
    "collapsed": false,
    "pycharm": {
     "name": "#%%\n"
    }
   }
  },
  {
   "cell_type": "code",
   "execution_count": null,
   "outputs": [],
   "source": [
    "import re\n",
    "from quests import quest_to_md\n",
    "\n",
    "def cross_out(md):\n",
    "    split = md.split('\\n')\n",
    "    res = []\n",
    "    for l in split:\n",
    "        m = re.match(r'###\\s+(.+)', l)\n",
    "        if not m:\n",
    "            res.append(l)\n",
    "        else:\n",
    "            res.append(f'### ~~{m.group(1)}~~')\n",
    "            break\n",
    "    return '\\n'.join(res + split[len(res):])\n",
    "\n",
    "def not_achievable(qid):\n",
    "    q = qd.find_quest(qid)\n",
    "    display(Markdown(f'*Not achievable for now*:\\n{cross_out(quest_to_md(q))}\\n***'))\n",
    "\n",
    "def completed(qid):\n",
    "    q = qd.find_quest(qid)\n",
    "    display(Markdown(f'**Completed**:\\n{cross_out(quest_to_md(q))}\\n***'))"
   ],
   "metadata": {
    "collapsed": false,
    "pycharm": {
     "name": "#%%\n"
    }
   }
  },
  {
   "cell_type": "markdown",
   "source": [
    "# Usage\n",
    "\n",
    "**X marks determines available quests.**\n",
    "Not marked outer vertices of tree should mean completed quests."
   ],
   "metadata": {
    "collapsed": false,
    "pycharm": {
     "name": "#%% md\n"
    }
   }
  },
  {
   "cell_type": "markdown",
   "source": [
    "## LBAS W7"
   ],
   "metadata": {
    "collapsed": false,
    "pycharm": {
     "name": "#%% md\n"
    }
   }
  },
  {
   "cell_type": "code",
   "execution_count": null,
   "outputs": [],
   "source": [
    "qd.quest_tree('B175')\n",
    "qd.quest_tree('B81')\n",
    "not_achievable('C22')\n",
    "completed('F106')"
   ],
   "metadata": {
    "collapsed": false,
    "pycharm": {
     "name": "#%%\n"
    }
   }
  },
  {
   "cell_type": "markdown",
   "source": [
    "## What I need for a [12cm 30-tube Rocket Launcher Kai Ni](https://en.kancollewiki.net/12cm_30-tube_Rocket_Launcher_Kai_Ni)"
   ],
   "metadata": {
    "collapsed": false,
    "pycharm": {
     "name": "#%% md\n"
    }
   }
  },
  {
   "cell_type": "code",
   "execution_count": null,
   "outputs": [],
   "source": [
    "completed('B114')"
   ],
   "metadata": {
    "collapsed": false,
    "pycharm": {
     "name": "#%%\n"
    }
   }
  },
  {
   "cell_type": "markdown",
   "source": [
    "## What I need for a [Headquarters Personnel](https://en.kancollewiki.net/Headquarters_Personnel) x3"
   ],
   "metadata": {
    "collapsed": false,
    "pycharm": {
     "name": "#%% md\n"
    }
   }
  },
  {
   "cell_type": "code",
   "execution_count": null,
   "outputs": [],
   "source": [
    "qd.quest_tree('D18')\n",
    "qd.quest_tree('B159')\n",
    "completed('B134')"
   ],
   "metadata": {
    "collapsed": false,
    "pycharm": {
     "name": "#%%\n"
    }
   }
  },
  {
   "cell_type": "markdown",
   "source": [
    "## What I need for [Prototype Flight Deck Catapult](https://en.kancollewiki.net/Prototype_Flight_Deck_Catapult) x8"
   ],
   "metadata": {
    "collapsed": false,
    "pycharm": {
     "name": "#%% md\n"
    }
   }
  },
  {
   "cell_type": "code",
   "execution_count": null,
   "outputs": [],
   "source": [
    "qd.quest_tree('B152')\n",
    "qd.quest_tree('F21')\n",
    "not_achievable('B117')\n",
    "not_achievable('B150')\n",
    "not_achievable('B154')\n",
    "not_achievable('B177')\n",
    "completed('F85')\n",
    "completed('F23')"
   ],
   "metadata": {
    "collapsed": false,
    "pycharm": {
     "name": "#%%\n"
    }
   }
  },
  {
   "cell_type": "markdown",
   "source": [
    "## Amphibious tank"
   ],
   "metadata": {
    "collapsed": false,
    "pycharm": {
     "name": "#%% md\n"
    }
   }
  },
  {
   "cell_type": "code",
   "execution_count": null,
   "outputs": [],
   "source": [
    "qd.quest_tree('F33')"
   ],
   "metadata": {
    "collapsed": false,
    "pycharm": {
     "name": "#%%\n"
    }
   }
  },
  {
   "cell_type": "markdown",
   "source": [
    "## What I need for [Daihatsu Landing Craft](https://en.kancollewiki.net/Daihatsu_Landing_Craft)"
   ],
   "metadata": {
    "collapsed": false,
    "pycharm": {
     "name": "#%% md\n"
    }
   }
  },
  {
   "cell_type": "code",
   "execution_count": null,
   "outputs": [],
   "source": [
    "for q in ('F90', 'Bq12', 'By7', 'B62', 'B111', 'B113',\n",
    "          'B124', 'B140', 'B171', 'D31', 'D33', 'D34'):\n",
    "    qd.quest_tree(q)\n",
    "for q in ('B73', 'B103', 'B104', 'B109', 'B116', 'B126',\n",
    "          'B163', 'B173', 'C13', 'C38', 'B24'):\n",
    "    not_achievable(q)"
   ],
   "metadata": {
    "collapsed": false,
    "pycharm": {
     "name": "#%%\n"
    }
   }
  },
  {
   "cell_type": "markdown",
   "source": [
    "## What I need for [Seaplane Fighters](https://en.kancollewiki.net/Category:Seaplane_Fighters)"
   ],
   "metadata": {
    "collapsed": false,
    "pycharm": {
     "name": "#%% md\n"
    }
   }
  },
  {
   "cell_type": "code",
   "execution_count": null,
   "outputs": [],
   "source": [
    "not_achievable('B167')\n",
    "completed('B95')\n",
    "completed('B88')"
   ],
   "metadata": {
    "collapsed": false,
    "pycharm": {
     "name": "#%%\n"
    }
   }
  },
  {
   "cell_type": "markdown",
   "source": [
    "## What I need for [jets](https://en.kancollewiki.net/Jets) construction"
   ],
   "metadata": {
    "collapsed": false,
    "pycharm": {
     "name": "#%% md\n"
    }
   }
  },
  {
   "cell_type": "code",
   "execution_count": null,
   "outputs": [],
   "source": [
    "qd.quest_tree('F47')\n",
    "qd.quest_tree('D20')\n",
    "qd.quest_tree('G5')\n",
    "# display(Markdown('**Not relevant for now**'))"
   ],
   "metadata": {
    "collapsed": false,
    "pycharm": {
     "name": "#%%\n"
    }
   }
  },
  {
   "cell_type": "markdown",
   "source": [
    "## What I need for [New Model Aerial Armament Material](https://en.kancollewiki.net/New_Model_Aerial_Armament_Material) x22"
   ],
   "metadata": {
    "collapsed": false,
    "pycharm": {
     "name": "#%% md\n"
    }
   }
  },
  {
   "cell_type": "code",
   "execution_count": null,
   "outputs": [],
   "source": [
    "# for q in [\n",
    "#     'A80', 'B105', 'B106', 'B110', 'B111', 'B118', 'B126', 'B127', 'B137', 'B138',\n",
    "#     'B145', 'B146', 'B151', 'B177', 'C31', 'C33', 'C35', 'C46', 'D39', 'F84', 'F85',\n",
    "#     'F97']:\n",
    "#     qd.quest_tree(q)\n",
    "display(Markdown('**Not relevant for now**'))"
   ],
   "metadata": {
    "collapsed": false,
    "pycharm": {
     "name": "#%%\n"
    }
   }
  },
  {
   "cell_type": "markdown",
   "metadata": {
    "pycharm": {
     "name": "#%% md\n"
    }
   },
   "source": [
    "## What I need for [jets](https://en.kancollewiki.net/Jets) construction"
   ]
  },
  {
   "cell_type": "code",
   "execution_count": 11,
   "metadata": {
    "pycharm": {
     "name": "#%%\n"
    },
    "scrolled": false
   },
   "outputs": [
    {
     "data": {
      "text/markdown": [
       "### [[F47](https://en.kancollewiki.net/Quests#F47)] Increased Production of the Ne-Type Engine\n",
       "**Have 8000 steel, two Ryuusei and two Prototype Reppuu Late Models. Scrap three Type 0 Fighter Models 52.**\n",
       "\n",
       "✘Consumes the resources and equipment. Make sure the equipment is unlocked!\n",
       "➣Rewards a Ne-Type Engine\n",
       "\n",
       "\n",
       "```\n",
       "[F47]\n",
       "├─[D21]\n",
       "│ ├─[B88]\n",
       "│ └─[D20]\n",
       "│   ├─[D2](V)\n",
       "│   └─[D6]\n",
       "│     └─[D5](X)\n",
       "└─[F45]\n",
       "  ├─[F43]\n",
       "  │ ├─[B62]\n",
       "  │ │ ├─[D19]\n",
       "  │ │ │ ├─[D9](X)\n",
       "  │ │ │ └─[B50]\n",
       "  │ │ │   └─[A56]\n",
       "  │ │ │     ├─[A23]\n",
       "  │ │ │     └─[Bm6](V)\n",
       "  │ │ └─[Bw9]\n",
       "  │ │   └─[Bw8]\n",
       "  │ │     └─[Bw6](V)\n",
       "  │ └─[F38]\n",
       "  │   ├─[B77]\n",
       "  │   │ └─[C2](V)\n",
       "  │   └─[F37]\n",
       "  │     └─[B56]\n",
       "  │       └─[A64]\n",
       "  │         ├─[B55]\n",
       "  │         └─[B50]\n",
       "  │           └─[A56]\n",
       "  │             ├─[A23]\n",
       "  │             └─[Bm6](V)\n",
       "  └─[A62](V)\n",
       "```\n",
       "#### [[D5](https://en.kancollewiki.net/Quests#D5)] [X] __The First Submarine Dispatch Operation!__\n",
       "**Complete Expedition 30.**\n",
       "\n",
       "➣Rewards a Repair Team\n",
       "\n",
       "\n",
       "#### [[D9](https://en.kancollewiki.net/Quests#D9)] [X] __Weekly Tokyo Express__\n",
       "**Complete Expedition 37 or 38.**\n",
       "\n",
       "※Succeed at a Southern Transport Operation!\n",
       "\n",
       "\n",
       "#### [[B77](https://en.kancollewiki.net/Quests#B77)] Torpedo Squadron, Patrol the Nansei Islands Region!\n",
       "**Sortie a CL/CLT/CT as flagship, 4 DD and 1 additional ship to [W2-2] and [W2-3]. S-Rank the boss nodes of both maps.**\n",
       "\n",
       "➣Rewards an Irako and a Furniture Fairy\n",
       "\n",
       "\n",
       "#### [[A56](https://en.kancollewiki.net/Quests#A56)] Reform the 5th Carrier Division!\n",
       "**Have Shoukaku, Zuikaku, Oboro and Akigumo in your main fleet.**\n",
       "\n",
       "\n",
       "#### [[Bw8](https://en.kancollewiki.net/Quests#Bw8)] Weekly [W4-4]\n",
       "**Sortie to [W4-4]. B-Rank+ the boss node.**\n",
       "\n",
       "※Crush the Backbone of the Enemy's Eastern Fleet!\n",
       "\n",
       "\n",
       "#### [[Bw9](https://en.kancollewiki.net/Quests#Bw9)] Weekly [W5-2]\n",
       "**Sortie to [W5-2]. S-Rank the boss node 2 times.**\n",
       "\n",
       "※Obtain Air Superiority Over the Southern Coral Sea Islands Region!\n",
       "➣Rewards 2 Screws\n",
       "\n",
       "\n",
       "#### [[F37](https://en.kancollewiki.net/Quests#F37)] Advance Preparation for the Airbase Construction\n",
       "**Have two Type 96 Fighters and two 7.7mm Machine Guns in your inventory. Scrap two Drum Canisters.**\n",
       "\n",
       "✘Consumes the equipment. Make sure the equipment is unlocked!\n",
       "➣Rewards a Type 96 Land-based Attack Aircraft\n",
       "\n",
       "\n",
       "#### [[F38](https://en.kancollewiki.net/Quests#F38)] Expansion of the Attack Aircraft Squadron\n",
       "**Have two Type 99 Dive Bombers and two 7.7mm Machine Guns in your inventory.**\n",
       "\n",
       "✘Consumes the equipment. Make sure the equipment is unlocked!\n",
       "➣Rewards a Type 96 Land-based Attack Aircraft\n",
       "\n",
       "\n",
       "#### [[B88](https://en.kancollewiki.net/Quests#B88)] Sortie a Battleship Division!\n",
       "**Sortie a (F)BB(V) as flagship, 1 other (F)BB(V) and up to 4 additional ships to [W3-3]. S-Rank the boss node. You will have to select a reward.**\n",
       "\n",
       "➣Rewards 2 Screws and either a Type 2 Seaplane Fighter Kai OR a PBY-5A Catalina\n",
       "\n",
       "\n",
       "#### [[D6](https://en.kancollewiki.net/Quests#D6)] The Second Submarine Dispatch Operation!\n",
       "**Complete Expedition 30 one more time.**\n",
       "\n",
       "➣Rewards a Ju 87C Kai\n",
       "\n",
       "\n",
       "#### [[B50](https://en.kancollewiki.net/Quests#B50)] Sortie the 5th Carrier Division into the Coral Sea Region!\n",
       "**Sortie Shoukaku, Zuikaku, Oboro, Akigumo and up to 2 additional ships to [W5-2]. S-Rank the boss node.**\n",
       "\n",
       "➣Rewards an Irako\n",
       "\n",
       "\n",
       "#### [[F43](https://en.kancollewiki.net/Quests#F43)] Deploy an Air Base Squadron to the Chubu Region!\n",
       "**Have 1200 fuel, 3000 bauxite, and one Construction Battalion in your inventory. Scrap two Drum Canisters.**\n",
       "\n",
       "✘Consumes the items and resources.\n",
       "➣Enables a Land Airbase in [W6]\n",
       "\n",
       "\n",
       "#### [[F45](https://en.kancollewiki.net/Quests#F45)] Development of a New Axis Reconnaissance Aircraft\n",
       "**Have one Type 1 Land-based Attack Aircraft and two Saiun. Scrap two Type 0 Reconnaissance Seaplanes.**\n",
       "\n",
       "✘Consumes the equipment. Make sure the equipment is unlocked!\n",
       "➣Rewards a Prototype Keiun (Carrier-based Reconnaissance Model)\n",
       "\n",
       "\n",
       "#### [[B55](https://en.kancollewiki.net/Quests#B55)] Sortie the 16th Cruiser Division (Second Generation)!\n",
       "**Sortie Natori as flagship, Isuzu, Kinu and up to 3 additional ships to [W2-3]. S-Rank the boss node.**\n",
       "\n",
       "➣Rewards a Mamiya\n",
       "\n",
       "\n",
       "#### [[B56](https://en.kancollewiki.net/Quests#B56)] Newly Formed Carrier Division, Advance into the North!\n",
       "**Sortie 2 CV, 2 BBV/CAV and 2 DD to [W3-3]. S-Rank the boss node.**\n",
       "\n",
       "➣Rewards 2 Screws and a Furniture Fairy\n",
       "\n",
       "\n",
       "#### [[D19](https://en.kancollewiki.net/Quests#D19)] Enhance the Effectiveness of the Task Force!\n",
       "**Complete Expeditions 35 and 26.**\n",
       "\n",
       "➣Rewards 2 Screws\n",
       "\n",
       "\n",
       "#### [[D20](https://en.kancollewiki.net/Quests#D20)] Submarine Dispatch Operation to Acquire Aircraft Technology\n",
       "**Complete Expeditions 30 and 31.**\n",
       "\n",
       "☣CAUTION☣There are issues when attempting to clear this quest while D7 is active. This can lead to successful expedition completions for D20 not being counted.\n",
       "➣Rewards a New Model Aircraft Blueprint\n",
       "\n",
       "\n",
       "#### [[D21](https://en.kancollewiki.net/Quests#D21)] Submarine Dispatch Operation to Acquire Jet Engine Technology\n",
       "**Have 5000 steel and 1500 bauxite. Complete Expeditions 30 and 31.**\n",
       "\n",
       "✘Consumes the resources.\n",
       "➣Rewards a Ne-Type Engine\n",
       "\n",
       "\n",
       "#### [[B62](https://en.kancollewiki.net/Quests#B62)] Enhance the Strength of Landing Force Operations!\n",
       "**Sortie to [W6-3]. B-Rank+ the boss node.**\n",
       "\n",
       "➣Rewards 3 Screws and a Daihatsu Landing Craft\n",
       "\n",
       "\n",
       "#### [[A23](https://en.kancollewiki.net/Quests#A23)] Form the 5th Carrier Division!\n",
       "**Have Shoukaku, Zuikaku and 2 DD in your main fleet.**\n",
       "\n",
       "➣Rewards a Repair Team\n",
       "\n",
       "\n",
       "#### [[A64](https://en.kancollewiki.net/Quests#A64)] Form the Newly Organized Carrier Division!\n",
       "**Have 2 CV(L), 2 BBV/CAV and 2 DD in your fleet.**\n",
       "\n",
       "➣Rewards 2 Screws\n",
       "\n",
       "\n",
       "***"
      ],
      "text/plain": [
       "<IPython.core.display.Markdown object>"
      ]
     },
     "metadata": {},
     "output_type": "display_data"
    },
    {
     "data": {
      "text/markdown": [
       "### [[D20](https://en.kancollewiki.net/Quests#D20)] Submarine Dispatch Operation to Acquire Aircraft Technology\n",
       "**Complete Expeditions 30 and 31.**\n",
       "\n",
       "☣CAUTION☣There are issues when attempting to clear this quest while D7 is active. This can lead to successful expedition completions for D20 not being counted.\n",
       "➣Rewards a New Model Aircraft Blueprint\n",
       "\n",
       "\n",
       "```\n",
       "[D20]\n",
       "├─[D2](V)\n",
       "└─[D6]\n",
       "  └─[D5](X)\n",
       "```\n",
       "#### [[D5](https://en.kancollewiki.net/Quests#D5)] [X] __The First Submarine Dispatch Operation!__\n",
       "**Complete Expedition 30.**\n",
       "\n",
       "➣Rewards a Repair Team\n",
       "\n",
       "\n",
       "#### [[D6](https://en.kancollewiki.net/Quests#D6)] The Second Submarine Dispatch Operation!\n",
       "**Complete Expedition 30 one more time.**\n",
       "\n",
       "➣Rewards a Ju 87C Kai\n",
       "\n",
       "\n",
       "***"
      ],
      "text/plain": [
       "<IPython.core.display.Markdown object>"
      ]
     },
     "metadata": {},
     "output_type": "display_data"
    },
    {
     "data": {
      "text/markdown": [
       "### [[G5](https://en.kancollewiki.net/Quests#G5)] Flight Rigging Modernization\n",
       "**Have 5500 steel and 2500 bauxite. Modernize a CV(B) using 5 CV(L) twice.**\n",
       "\n",
       "✘Consumes the resources.\n",
       "➣Rewards a New Model Aircraft Blueprint\n",
       "\n",
       "\n",
       "```\n",
       "[G5]\n",
       "├─[B87]\n",
       "└─[G3](V)\n",
       "```\n",
       "#### [[B87](https://en.kancollewiki.net/Quests#B87)] Heavy Cruiser Division, Set Sail!\n",
       "**Sortie a CA(V) as flagship, 3 other CA(V) and up to 2 additional ships to [W2-3]. S-Rank the boss node.**\n",
       "\n",
       "➣Rewards an Irako and furniture\n",
       "\n",
       "\n",
       "***"
      ],
      "text/plain": [
       "<IPython.core.display.Markdown object>"
      ]
     },
     "metadata": {},
     "output_type": "display_data"
    }
   ],
   "source": [
    "qd.quest_tree('F47')\n",
    "qd.quest_tree('D20')\n",
    "qd.quest_tree('G5')\n",
    "# display(Markdown('**Not relevant for now**'))"
   ]
  },
  {
   "cell_type": "markdown",
   "metadata": {
    "pycharm": {
     "name": "#%% md\n"
    }
   },
   "source": [
    "## What I need for [New Model Aerial Armament Material](https://en.kancollewiki.net/New_Model_Aerial_Armament_Material) x22"
   ]
  },
  {
   "cell_type": "code",
   "execution_count": 12,
   "metadata": {
    "pycharm": {
     "name": "#%%\n"
    }
   },
   "outputs": [
    {
     "data": {
      "text/markdown": [
       "**Not relevant for now**"
      ],
      "text/plain": [
       "<IPython.core.display.Markdown object>"
      ]
     },
     "metadata": {},
     "output_type": "display_data"
    }
   ],
   "source": [
    "# for q in [\n",
    "#     'A80', 'B105', 'B106', 'B110', 'B111', 'B118', 'B126', 'B127', 'B137', 'B138',\n",
    "#     'B145', 'B146', 'B151', 'B177', 'C31', 'C33', 'C35', 'C46', 'D39', 'F84', 'F85',\n",
    "#     'F97']:\n",
    "#     qd.quest_tree(q)\n",
    "display(Markdown('**Not relevant for now**'))"
   ]
  }
 ],
 "metadata": {
  "kernelspec": {
   "display_name": "Python 3 (ipykernel)",
   "language": "python",
   "name": "python3"
  },
  "language_info": {
   "codemirror_mode": {
    "name": "ipython",
    "version": 3
   },
   "file_extension": ".py",
   "mimetype": "text/x-python",
   "name": "python",
   "nbconvert_exporter": "python",
   "pygments_lexer": "ipython3",
   "version": "3.9.12"
  }
 },
 "nbformat": 4,
 "nbformat_minor": 1
}