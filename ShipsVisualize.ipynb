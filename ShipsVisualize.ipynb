{
 "cells": [
  {
   "cell_type": "code",
   "execution_count": 1,
   "outputs": [
    {
     "data": {
      "text/plain": "    Sortno       Name  Yomi     Romaji SType   Class     Models     HP     FP  \\\nID                                                                              \n1       31    Mutsuki   むつき    Mutsuki  2/DD  28/睦月型  1/254/434  13/24   6/29   \n2       32   Kisaragi  きさらぎ   Kisaragi  2/DD  28/睦月型  2/255/435  13/24   6/29   \n6       35  Nagatsuki  ながつき  Nagatsuki  2/DD  28/睦月型      6/258  13/24   6/29   \n7       37   Mikazuki  みかづき   Mikaduki  2/DD  28/睦月型      7/260  13/24   6/29   \n9       11     Fubuki   ふぶき     Fubuki  2/DD  12/吹雪型  9/201/426  15/29  10/29   \n\n      AR     TP     AA   Luck  Speed Slots  Costs  BuildMins         Graph  \nID                                                                          \n1   5/18  18/59   7/29  12/49     10   0/0  15/15         18  snohitatusbk  \n2   5/18  18/49   7/29  10/49     10   0/0  15/15         18  wujywbyjntbp  \n6   5/18  18/49   7/29  15/69     10   0/0  15/15         18  kksiqffpclxh  \n7   5/18  18/49   7/29  10/49     10   0/0  15/15         18  ujhxqqlcorxv  \n9   5/19  27/79  10/39  17/49     10   0/0  15/20         20  gyckjmemgqoe  ",
      "text/html": "<div>\n<style scoped>\n    .dataframe tbody tr th:only-of-type {\n        vertical-align: middle;\n    }\n\n    .dataframe tbody tr th {\n        vertical-align: top;\n    }\n\n    .dataframe thead th {\n        text-align: right;\n    }\n</style>\n<table border=\"1\" class=\"dataframe\">\n  <thead>\n    <tr style=\"text-align: right;\">\n      <th></th>\n      <th>Sortno</th>\n      <th>Name</th>\n      <th>Yomi</th>\n      <th>Romaji</th>\n      <th>SType</th>\n      <th>Class</th>\n      <th>Models</th>\n      <th>HP</th>\n      <th>FP</th>\n      <th>AR</th>\n      <th>TP</th>\n      <th>AA</th>\n      <th>Luck</th>\n      <th>Speed</th>\n      <th>Slots</th>\n      <th>Costs</th>\n      <th>BuildMins</th>\n      <th>Graph</th>\n    </tr>\n    <tr>\n      <th>ID</th>\n      <th></th>\n      <th></th>\n      <th></th>\n      <th></th>\n      <th></th>\n      <th></th>\n      <th></th>\n      <th></th>\n      <th></th>\n      <th></th>\n      <th></th>\n      <th></th>\n      <th></th>\n      <th></th>\n      <th></th>\n      <th></th>\n      <th></th>\n      <th></th>\n    </tr>\n  </thead>\n  <tbody>\n    <tr>\n      <th>1</th>\n      <td>31</td>\n      <td>Mutsuki</td>\n      <td>むつき</td>\n      <td>Mutsuki</td>\n      <td>2/DD</td>\n      <td>28/睦月型</td>\n      <td>1/254/434</td>\n      <td>13/24</td>\n      <td>6/29</td>\n      <td>5/18</td>\n      <td>18/59</td>\n      <td>7/29</td>\n      <td>12/49</td>\n      <td>10</td>\n      <td>0/0</td>\n      <td>15/15</td>\n      <td>18</td>\n      <td>snohitatusbk</td>\n    </tr>\n    <tr>\n      <th>2</th>\n      <td>32</td>\n      <td>Kisaragi</td>\n      <td>きさらぎ</td>\n      <td>Kisaragi</td>\n      <td>2/DD</td>\n      <td>28/睦月型</td>\n      <td>2/255/435</td>\n      <td>13/24</td>\n      <td>6/29</td>\n      <td>5/18</td>\n      <td>18/49</td>\n      <td>7/29</td>\n      <td>10/49</td>\n      <td>10</td>\n      <td>0/0</td>\n      <td>15/15</td>\n      <td>18</td>\n      <td>wujywbyjntbp</td>\n    </tr>\n    <tr>\n      <th>6</th>\n      <td>35</td>\n      <td>Nagatsuki</td>\n      <td>ながつき</td>\n      <td>Nagatsuki</td>\n      <td>2/DD</td>\n      <td>28/睦月型</td>\n      <td>6/258</td>\n      <td>13/24</td>\n      <td>6/29</td>\n      <td>5/18</td>\n      <td>18/49</td>\n      <td>7/29</td>\n      <td>15/69</td>\n      <td>10</td>\n      <td>0/0</td>\n      <td>15/15</td>\n      <td>18</td>\n      <td>kksiqffpclxh</td>\n    </tr>\n    <tr>\n      <th>7</th>\n      <td>37</td>\n      <td>Mikazuki</td>\n      <td>みかづき</td>\n      <td>Mikaduki</td>\n      <td>2/DD</td>\n      <td>28/睦月型</td>\n      <td>7/260</td>\n      <td>13/24</td>\n      <td>6/29</td>\n      <td>5/18</td>\n      <td>18/49</td>\n      <td>7/29</td>\n      <td>10/49</td>\n      <td>10</td>\n      <td>0/0</td>\n      <td>15/15</td>\n      <td>18</td>\n      <td>ujhxqqlcorxv</td>\n    </tr>\n    <tr>\n      <th>9</th>\n      <td>11</td>\n      <td>Fubuki</td>\n      <td>ふぶき</td>\n      <td>Fubuki</td>\n      <td>2/DD</td>\n      <td>12/吹雪型</td>\n      <td>9/201/426</td>\n      <td>15/29</td>\n      <td>10/29</td>\n      <td>5/19</td>\n      <td>27/79</td>\n      <td>10/39</td>\n      <td>17/49</td>\n      <td>10</td>\n      <td>0/0</td>\n      <td>15/20</td>\n      <td>20</td>\n      <td>gyckjmemgqoe</td>\n    </tr>\n  </tbody>\n</table>\n</div>"
     },
     "execution_count": 1,
     "metadata": {},
     "output_type": "execute_result"
    }
   ],
   "source": [
    "import json\n",
    "import pandas as pd\n",
    "from urllib.request import urlopen\n",
    "from quests import QuestData\n",
    "from ships import ShipData\n",
    "\n",
    "kc3data = r\"D:\\Users\\ZONT_\\Downloads\\[9095073] Profile 2022-11-10.kc3\"\n",
    "with open(kc3data) as fd:\n",
    "    kc3data = json.load(fd)\n",
    "ships_my = kc3data['ships']\n",
    "\n",
    "ships_db = r'D:\\Users\\ZONT_\\Downloads\\Shipgirls 2022-11-11.csv'\n",
    "ships_db = pd.read_csv(ships_db, index_col=0)\n",
    "ships_db.head()"
   ],
   "metadata": {
    "collapsed": false,
    "pycharm": {
     "name": "#%%\n"
    }
   }
  },
  {
   "cell_type": "code",
   "execution_count": 2,
   "outputs": [
    {
     "data": {
      "text/plain": "     Sortno                Name        Yomi          Romaji  SType   Class  \\\nID                                                                           \n109     105         Chiyoda-Kou         ちよだ         Chiyoda  7/CVL  15/千歳型   \n297     122  Chiyoda-Kou Kai Ni         ちよだ         Chiyoda  7/CVL  15/千歳型   \n115     111             Yuubari        ゆうばり         Yuubari   3/CL  34/夕張型   \n698     405         Kaga Kai Ni          かが            Kaga  11/CV   3/加賀型   \n293    1393         Yuubari Kai        ゆうばり         Yuubari   3/CL  34/夕張型   \n883     483    Ryuuhou Kai Ni E  たいげい・りゅうほう  Taigei/ryuuhou  7/CVL  51/龍鳳型   \n278    1378            Kaga Kai          かが            Kaga  11/CV   3/加賀型   \n318     190         Ryuuhou Kai  たいげい・りゅうほう  Taigei/ryuuhou  7/CVL  51/龍鳳型   \n185     185             Ryuuhou  たいげい・りゅうほう  Taigei/ryuuhou  7/CVL  51/龍鳳型   \n610     410       Kaga Kai Ni E          かが            Kaga  11/CV   3/加賀型   \n\n                      Models     HP     FP     AR     TP     AA   Luck  Speed  \\\nID                                                                              \n109  103/105/107/109/292/297  47/59   0/19  25/39    0/0  20/49  10/59     10   \n297  103/105/107/109/292/297  58/79   0/34  32/65    0/0  30/72  13/59     10   \n115      115/293/622/623/624  19/33  17/42  10/29  20/69  10/42  12/49     10   \n698       84/278/698/610/646  84/98   0/56  41/80    0/0  36/84  18/74     10   \n293      115/293/622/623/624  36/49  23/63  28/49  24/79  20/69  17/69     10   \n883      184/185/318/883/888  61/79   0/45  36/73    0/0  30/72  42/98      5   \n278       84/278/698/610/646  79/92   0/50  40/79    0/0  30/79  12/60     10   \n318      184/185/318/883/888  48/70   0/32  24/57    0/0  28/62  24/79      5   \n185      184/185/318/883/888  39/57   0/20  18/38    0/0  24/48  20/69      5   \n610       84/278/698/610/646  84/98   0/62  41/80    0/0  36/84  18/74     10   \n\n             Slots   Costs  BuildMins         Graph  \nID                                                   \n109         21/9/6   40/40        190  rsmzverhwskc  \n297     24/16/11/8   45/40        190  jhefpwucyxiq  \n115          0/0/0   20/30         82  hieimxbtcqrt  \n698  20/20/44/12/3  100/95        260  rjvgdeehghjd  \n293        0/0/0/0   25/40         82  hfhcjjdyqyzn  \n883     21/21/12/3   40/50        160  bihiglbhbdbh  \n278    20/20/46/12   80/80        260  uuqdlbtrkmvk  \n318       21/9/9/6   35/40        160  rjtnzguullvo  \n185         18/7/6   35/35        160  bfsrsnqivpms  \n610   18/18/40/8/2  100/95        260  hynqrgutrmmp  ",
      "text/html": "<div>\n<style scoped>\n    .dataframe tbody tr th:only-of-type {\n        vertical-align: middle;\n    }\n\n    .dataframe tbody tr th {\n        vertical-align: top;\n    }\n\n    .dataframe thead th {\n        text-align: right;\n    }\n</style>\n<table border=\"1\" class=\"dataframe\">\n  <thead>\n    <tr style=\"text-align: right;\">\n      <th></th>\n      <th>Sortno</th>\n      <th>Name</th>\n      <th>Yomi</th>\n      <th>Romaji</th>\n      <th>SType</th>\n      <th>Class</th>\n      <th>Models</th>\n      <th>HP</th>\n      <th>FP</th>\n      <th>AR</th>\n      <th>TP</th>\n      <th>AA</th>\n      <th>Luck</th>\n      <th>Speed</th>\n      <th>Slots</th>\n      <th>Costs</th>\n      <th>BuildMins</th>\n      <th>Graph</th>\n    </tr>\n    <tr>\n      <th>ID</th>\n      <th></th>\n      <th></th>\n      <th></th>\n      <th></th>\n      <th></th>\n      <th></th>\n      <th></th>\n      <th></th>\n      <th></th>\n      <th></th>\n      <th></th>\n      <th></th>\n      <th></th>\n      <th></th>\n      <th></th>\n      <th></th>\n      <th></th>\n      <th></th>\n    </tr>\n  </thead>\n  <tbody>\n    <tr>\n      <th>109</th>\n      <td>105</td>\n      <td>Chiyoda-Kou</td>\n      <td>ちよだ</td>\n      <td>Chiyoda</td>\n      <td>7/CVL</td>\n      <td>15/千歳型</td>\n      <td>103/105/107/109/292/297</td>\n      <td>47/59</td>\n      <td>0/19</td>\n      <td>25/39</td>\n      <td>0/0</td>\n      <td>20/49</td>\n      <td>10/59</td>\n      <td>10</td>\n      <td>21/9/6</td>\n      <td>40/40</td>\n      <td>190</td>\n      <td>rsmzverhwskc</td>\n    </tr>\n    <tr>\n      <th>297</th>\n      <td>122</td>\n      <td>Chiyoda-Kou Kai Ni</td>\n      <td>ちよだ</td>\n      <td>Chiyoda</td>\n      <td>7/CVL</td>\n      <td>15/千歳型</td>\n      <td>103/105/107/109/292/297</td>\n      <td>58/79</td>\n      <td>0/34</td>\n      <td>32/65</td>\n      <td>0/0</td>\n      <td>30/72</td>\n      <td>13/59</td>\n      <td>10</td>\n      <td>24/16/11/8</td>\n      <td>45/40</td>\n      <td>190</td>\n      <td>jhefpwucyxiq</td>\n    </tr>\n    <tr>\n      <th>115</th>\n      <td>111</td>\n      <td>Yuubari</td>\n      <td>ゆうばり</td>\n      <td>Yuubari</td>\n      <td>3/CL</td>\n      <td>34/夕張型</td>\n      <td>115/293/622/623/624</td>\n      <td>19/33</td>\n      <td>17/42</td>\n      <td>10/29</td>\n      <td>20/69</td>\n      <td>10/42</td>\n      <td>12/49</td>\n      <td>10</td>\n      <td>0/0/0</td>\n      <td>20/30</td>\n      <td>82</td>\n      <td>hieimxbtcqrt</td>\n    </tr>\n    <tr>\n      <th>698</th>\n      <td>405</td>\n      <td>Kaga Kai Ni</td>\n      <td>かが</td>\n      <td>Kaga</td>\n      <td>11/CV</td>\n      <td>3/加賀型</td>\n      <td>84/278/698/610/646</td>\n      <td>84/98</td>\n      <td>0/56</td>\n      <td>41/80</td>\n      <td>0/0</td>\n      <td>36/84</td>\n      <td>18/74</td>\n      <td>10</td>\n      <td>20/20/44/12/3</td>\n      <td>100/95</td>\n      <td>260</td>\n      <td>rjvgdeehghjd</td>\n    </tr>\n    <tr>\n      <th>293</th>\n      <td>1393</td>\n      <td>Yuubari Kai</td>\n      <td>ゆうばり</td>\n      <td>Yuubari</td>\n      <td>3/CL</td>\n      <td>34/夕張型</td>\n      <td>115/293/622/623/624</td>\n      <td>36/49</td>\n      <td>23/63</td>\n      <td>28/49</td>\n      <td>24/79</td>\n      <td>20/69</td>\n      <td>17/69</td>\n      <td>10</td>\n      <td>0/0/0/0</td>\n      <td>25/40</td>\n      <td>82</td>\n      <td>hfhcjjdyqyzn</td>\n    </tr>\n    <tr>\n      <th>883</th>\n      <td>483</td>\n      <td>Ryuuhou Kai Ni E</td>\n      <td>たいげい・りゅうほう</td>\n      <td>Taigei/ryuuhou</td>\n      <td>7/CVL</td>\n      <td>51/龍鳳型</td>\n      <td>184/185/318/883/888</td>\n      <td>61/79</td>\n      <td>0/45</td>\n      <td>36/73</td>\n      <td>0/0</td>\n      <td>30/72</td>\n      <td>42/98</td>\n      <td>5</td>\n      <td>21/21/12/3</td>\n      <td>40/50</td>\n      <td>160</td>\n      <td>bihiglbhbdbh</td>\n    </tr>\n    <tr>\n      <th>278</th>\n      <td>1378</td>\n      <td>Kaga Kai</td>\n      <td>かが</td>\n      <td>Kaga</td>\n      <td>11/CV</td>\n      <td>3/加賀型</td>\n      <td>84/278/698/610/646</td>\n      <td>79/92</td>\n      <td>0/50</td>\n      <td>40/79</td>\n      <td>0/0</td>\n      <td>30/79</td>\n      <td>12/60</td>\n      <td>10</td>\n      <td>20/20/46/12</td>\n      <td>80/80</td>\n      <td>260</td>\n      <td>uuqdlbtrkmvk</td>\n    </tr>\n    <tr>\n      <th>318</th>\n      <td>190</td>\n      <td>Ryuuhou Kai</td>\n      <td>たいげい・りゅうほう</td>\n      <td>Taigei/ryuuhou</td>\n      <td>7/CVL</td>\n      <td>51/龍鳳型</td>\n      <td>184/185/318/883/888</td>\n      <td>48/70</td>\n      <td>0/32</td>\n      <td>24/57</td>\n      <td>0/0</td>\n      <td>28/62</td>\n      <td>24/79</td>\n      <td>5</td>\n      <td>21/9/9/6</td>\n      <td>35/40</td>\n      <td>160</td>\n      <td>rjtnzguullvo</td>\n    </tr>\n    <tr>\n      <th>185</th>\n      <td>185</td>\n      <td>Ryuuhou</td>\n      <td>たいげい・りゅうほう</td>\n      <td>Taigei/ryuuhou</td>\n      <td>7/CVL</td>\n      <td>51/龍鳳型</td>\n      <td>184/185/318/883/888</td>\n      <td>39/57</td>\n      <td>0/20</td>\n      <td>18/38</td>\n      <td>0/0</td>\n      <td>24/48</td>\n      <td>20/69</td>\n      <td>5</td>\n      <td>18/7/6</td>\n      <td>35/35</td>\n      <td>160</td>\n      <td>bfsrsnqivpms</td>\n    </tr>\n    <tr>\n      <th>610</th>\n      <td>410</td>\n      <td>Kaga Kai Ni E</td>\n      <td>かが</td>\n      <td>Kaga</td>\n      <td>11/CV</td>\n      <td>3/加賀型</td>\n      <td>84/278/698/610/646</td>\n      <td>84/98</td>\n      <td>0/62</td>\n      <td>41/80</td>\n      <td>0/0</td>\n      <td>36/84</td>\n      <td>18/74</td>\n      <td>10</td>\n      <td>18/18/40/8/2</td>\n      <td>100/95</td>\n      <td>260</td>\n      <td>hynqrgutrmmp</td>\n    </tr>\n  </tbody>\n</table>\n</div>"
     },
     "execution_count": 2,
     "metadata": {},
     "output_type": "execute_result"
    }
   ],
   "source": [
    "ships_db.loc[ships_db['Models'].apply(lambda x: x.count('/')).sort_values(ascending=False).index[10:20]]"
   ],
   "metadata": {
    "collapsed": false,
    "pycharm": {
     "name": "#%%\n"
    }
   }
  },
  {
   "cell_type": "code",
   "execution_count": 3,
   "outputs": [
    {
     "name": "stderr",
     "output_type": "stream",
     "text": [
      "INFO: Parsing requirements from wiki\n",
      "WARN: Unknown quest 2207_B1\n",
      "WARN: Unknown quest 2204_B1\n",
      "WARN: Unknown quest C69\n",
      "WARN: Unknown quest SF1\n",
      "INFO: Failed to get requirements: 28\n",
      "INFO: Unknown requirements: 6\n",
      "INFO: Found missing in KC3 reqs: 729\n",
      "INFO: Found req but already present in KC3: 0\n",
      "INFO: KC3 data reliability (present req vs total reqs): 00%\n"
     ]
    }
   ],
   "source": [
    "kc3data = r\"D:\\Users\\ZONT_\\Downloads\\[9095073] Profile 2022-11-10.kc3\"\n",
    "with open(kc3data) as fd:\n",
    "    kc3data = json.load(fd)\n",
    "quests_my = kc3data['quests']\n",
    "quests_my = {str(data['id']): data for id, data in quests_my.items()}\n",
    "\n",
    "quests_data = 'https://raw.githubusercontent.com/KC3Kai/kc3-translations/master/data/en/quests.json'\n",
    "with urlopen(quests_data) as fd:\n",
    "    quests_data = json.load(fd)\n",
    "\n",
    "qd = QuestData(quests_data, quests_my)"
   ],
   "metadata": {
    "collapsed": false,
    "pycharm": {
     "name": "#%%\n"
    }
   }
  },
  {
   "cell_type": "code",
   "execution_count": 4,
   "outputs": [
    {
     "data": {
      "text/plain": "Ship(Shinshuu Maru)"
     },
     "execution_count": 4,
     "metadata": {},
     "output_type": "execute_result"
    }
   ],
   "source": [
    "sd = ShipData(ships_db, ships_my)\n",
    "sd.ships[621]"
   ],
   "metadata": {
    "collapsed": false,
    "pycharm": {
     "name": "#%%\n"
    }
   }
  },
  {
   "cell_type": "code",
   "execution_count": 20,
   "outputs": [
    {
     "data": {
      "text/plain": "  0%|          | 0/135 [00:00<?, ?it/s]",
      "application/vnd.jupyter.widget-view+json": {
       "version_major": 2,
       "version_minor": 0,
       "model_id": "a54b141da2a8458ca96c312c9784d0c5"
      }
     },
     "metadata": {},
     "output_type": "display_data"
    },
    {
     "data": {
      "text/plain": "48"
     },
     "execution_count": 20,
     "metadata": {},
     "output_type": "execute_result"
    }
   ],
   "source": [
    "found = sd.find_quests(qd)\n",
    "len(found)"
   ],
   "metadata": {
    "collapsed": false,
    "pycharm": {
     "name": "#%%\n"
    }
   }
  },
  {
   "cell_type": "code",
   "execution_count": 24,
   "outputs": [
    {
     "data": {
      "text/plain": "<IPython.core.display.Markdown object>",
      "text/markdown": "#### [[A41](https://en.kancollewiki.net/Quests#A41)] Deploy a New Model of Standard Aircraft Carrier!\n**Have Unryuu as Fleet 1 flagship.**\n\nFound ships in quest: Unryuu\n#### [[A50](https://en.kancollewiki.net/Quests#A50)] Prepare the New Mikawa Fleet to Break Through!\n**Have Choukai Kai Ni as flagship and any five of Aoba, Kinugasa, Kako, Furutaka, Tenryuu, Yuubari in your main fleet.**\n\nFound ships in quest: [X] Tenryuu, [X] Furutaka, [X] Kako, Aoba, #2: Choukai Kai Ni, [X] Kinu, [X] Yuubari, [X] Kinugasa\n#### [[A65](https://en.kancollewiki.net/Quests#A65)] Reform the Strengthened Surface Counterattack Force!\n**Have Kasumi as flagship, Ashigara, Ooyodo, Asashimo and Kiyoshimo in your fleet.**\n\nFound ships in quest: [X] Kasumi, [X] Ashigara, [X] Ooyodo, [X] Kiyoshimo, Asashimo\n#### [[A66](https://en.kancollewiki.net/Quests#A66)] Form the 31st Cruiser Division (First Generation)!\n**Have Isuzu Kai Ni as flagship, Satsuki Kai Ni and Uzuki Kai in your fleet.**\n\n➣Rewards an Irako\n\nFound ships in quest: [X] #2: Isuzu Kai Ni, [X] #2: Satsuki Kai Ni, Uzuki Kai\n#### [[A68](https://en.kancollewiki.net/Quests#A68)] [X] __Form a Forced High-Speed Transport Force!__\n**Have Sendai Kai Ni as flagship, Kawakaze Kai Ni, Shigure Kai Ni and 2 DD in your fleet.**\n\nFound ships in quest: [X] #2: Shigure Kai Ni, [X] #2: Sendai Kai Ni, [X] #2: Kawakaze Kai Ni\n#### [[A70](https://en.kancollewiki.net/Quests#A70)] Reform the New 8th Destroyer Division!\n**Have ONLY Asashio Kai Ni (or Kai Ni D) as flagship, Michishio, Ooshio and Arashio in your fleet.**\n\n✘If you meet the conditions and it doesn't clear, switch the quest off and turn it on again.\n\nFound ships in quest: [X] #2: Asashio Kai Ni, Ooshio, Michishio, Arashio, Arashi\n#### [[A75](https://en.kancollewiki.net/Quests#A75)] [X] __Form the New 1st Battleship Division!__\n**Have Nagato Kai Ni as flagship and Mutsu Kai in Fleet 1.**\n\n➣Rewards an Irako\n\nFound ships in quest: [X] #2: Nagato Kai Ni, [X] #1: Mutsu Kai\n#### [[A80](https://en.kancollewiki.net/Quests#A80)] Form the Powerful Task Force!\n**Have Saratoga Mk.II or Mod.2 as flagship, 1 CL and 2 DD in Fleet 1.**\n\n➣Rewards:\n¶First choice: Either a F6F-3 OR a F4U-1D\n¶Second choice: Either a TBF OR a New Model Aviation Armament Materials\n\nFound ships in quest: #2: Saratoga Mk.II\n#### [[A83](https://en.kancollewiki.net/Quests#A83)] Elite DesDiv 31, First Platoon, Prepare to Sortie!\n**Have Naganami Kai Ni as flagship and ONLY ONE of Takanami Kai, Asashimo Kai or Okinami Kai in your fleet.**\n\n➣Rewards either 2 Combat Ration (Special Onigiri) OR a Furniture Fairy\n\nFound ships in quest: [X] #2: Naganami Kai Ni, #1: Takanami Kai, #1: Asashimo Kai, [X] #1: Okinami Kai\n#### [[A89](https://en.kancollewiki.net/Quests#A89)] [X] __Form the Elite 18th Cruiser Division!__\n**Have ONLY Tenryuu Kai Ni and Tatsuta Kai Ni in your fleet.**\n\n➣Rewards either 5 Development Materials OR a Furniture Fairy\n\nFound ships in quest: [X] #2: Tenryuu Kai Ni, [X] #2: Tatsuta Kai Ni\n#### [[B21](https://en.kancollewiki.net/Quests#B21)] Sortie the 18th Destroyer Division!\n**Sortie Kasumi, Arare, Kagerou, Shiranui and 2 additional ships to [W3-1]. B-Rank+ the boss node.**\n\nFound ships in quest: [X] Kagerou, Shiranui, Arare, [X] Kasumi\n#### [[B22](https://en.kancollewiki.net/Quests#B22)] Sortie the 30th Destroyer Division (First Generation)!\n**Sortie Mutsuki, Kisaragi, Yayoi, Mochizuki and up to 2 additional ships to [W3-2]. C-Rank+ the boss node.**\n\n➣Rewards a Mamiya\n\nFound ships in quest: [X] Mutsuki, [X] Kisaragi, Mochizuki, [X] Mutsu, Yayoi\n#### [[B24](https://en.kancollewiki.net/Quests#B24)] The 30th Destroyer Fleet's Anti-Submarine Patrol\n**Sortie Mutsuki, Yayoi, Uzuki and Mochizuki to [W1-5]. C-Rank+ the boss node.**\n\n➣Rewards a Furniture Fairy\n\nFound ships in quest: [X] Mutsuki, Mochizuki, [X] Mutsu, Yayoi, Uzuki\n#### [[B26](https://en.kancollewiki.net/Quests#B26)] [X] __The Elite 2nd Carrier Division Sets Sail!__\n**Sortie Souryuu Kai Ni as flagship, Hiryuu Kai Ni, 2 DD and up to 2 additional ships to [W4-3]. S-Rank the boss node.**\n\n➣Rewards a Furniture Fairy\n\nFound ships in quest: [X] #2: Souryuu Kai Ni, [X] #2: Hiryuu Kai Ni\n#### [[B34](https://en.kancollewiki.net/Quests#B34)] Sortie the 6th Cruiser Division into the Southwestern Sea!\n**Sortie Furutaka, Kako, Aoba, Kinugasa and 2 additional ships to [W2-5]. S-Rank the boss node.**\n\n➣Rewards a Furniture Fairy\n\nFound ships in quest: [X] Furutaka, [X] Kako, Aoba, [X] Kinu, [X] Kinugasa\n#### [[B35](https://en.kancollewiki.net/Quests#B35)] Sortie the 11th Destroyer Division!\n**Sortie Fubuki, Shirayuki, Hatsuyuki, Murakumo and 2 additional ships to [W2-3]. B-Rank+ the boss node.**\n\n➣Rewards a Mamiya\n\nFound ships in quest: [X] Fubuki, Shirayuki, Hatsuyuki, [X] Murakumo\n#### [[B36](https://en.kancollewiki.net/Quests#B36)] The 11th Destroyer Division's Anti-Submarine Patrol!\n**Sortie Fubuki, Shirayuki, Hatsuyuki and Murakumo to [W1-5]. C-Rank+ the boss node.**\n\n➣Rewards a Type 3 SONAR\n\nFound ships in quest: [X] Fubuki, Shirayuki, Hatsuyuki, [X] Murakumo\n#### [[B124](https://en.kancollewiki.net/Quests#B124)] 7th Destroyer Division, Sail to the Nansei Islands Region!\n**Sortie any two of Akebono, Ushio, Sazanami and Oboro and up to 4 additional ships to [W2-1], [W2-2], [W2-3] and [W2-4]. S-Rank the boss nodes.**\n\n➣Rewards: \n¶First choice: Either a Furniture Fairy OR 3 12.7cm Twin Gun Mount Model B Kai Ni OR a Daihatsu Landing Craft\n¶Second choice: Either 8 Development Materials OR 5 Screws OR a Type 0 Passive Sonar\n\nFound ships in quest: [X] Akebono, [X] Ushio, [X] Oboro, Sazanami\n#### [[B58](https://en.kancollewiki.net/Quests#B58)] [X] __Send Flagship Kasumi to Patrol the Northern Sea!__\n**Sortie Kasumi Kai Ni as flagship, 3 DD and up to 2 additional ships to [W3-1]. B-Rank+ the boss node.**\n\n➣Rewards a Type 13 Air Radar Kai\n\nFound ships in quest: [X] #2: Kasumi Kai Ni\n#### [[B84](https://en.kancollewiki.net/Quests#B84)] Sortie the 16th Cruiser Division (Third Generation)!\n**Sortie Kinu, Aoba, Kitakami, Ooi and up to 2 additional ships to [W2-4]. A-Rank+ the boss node.**\n\n➣Rewards an Irako and furniture\n\nFound ships in quest: [X] Ooi, [X] Kitakami, Aoba, [X] Kinu\n#### [[B95](https://en.kancollewiki.net/Quests#B95)] [X] __Remodeled Aviation Cruiser, Sortie!__\n**Sortie Suzuya Kai Ni (not CVL) as flagship to [W5-1] and [W5-3]. A-Rank+ the boss nodes of each. You will be prompted to select a reward.**\n\n☣NOTICE☣ The CVL remodel cannot complete this quest. Suzuya must be a CAV.\n➣Rewards 4 Screws and either a Kyoufuu Kai OR a New Kanhon Design Anti-torpedo Bulge (Medium)\n\nFound ships in quest: [X] #2: Suzuya Kai Ni\n#### [[B102](https://en.kancollewiki.net/Quests#B102)] [X] __Elite 4th Carrier Division, Set Sail!__\n**Sortie Lv.50+ Hyuuga and Lv.50+ Ise as flagship and second ship, 1 CL, 2 DD and 1 additional ship to [W2-5] and [W3-5]. A-Rank+ the boss nodes of each.**\n\n※Either Ise or Hyuuga can be flagship.\n➣Rewards 4 Screws and either a Medal OR a Skilled Crew Member.\n\nFound ships in quest: [X] Ise, [X] Hyuuga\n#### [[B108](https://en.kancollewiki.net/Quests#B108)] 8th Destroyer Division, to the Southwest!\n**Sortie Arashio, Asashio, Ooshio, Michishio and up to 2 other ships to [W1-2] and [W2-2]. S-Rank the boss nodes of each.**\n\n➣Rewards a Mamiya\n\nFound ships in quest: [X] Asashio, Ooshio, Michishio, Arashio, Arashi\n#### [[B111](https://en.kancollewiki.net/Quests#B111)] [X] __Matsu Transport Operation, Commence!__\n**Sortie Tatsuta Kai or Kai Ni as flagship and 3+ DE/DD to [W1-4] and [W1-6]. A-Rank+ the [W1-4] boss node twice. Reach [W1-6-N] twice.**\n\nYou may use up to 2 additional ships of any class.\n➣Rewards:\n¶First choice: Either a New Model Artillery Armament Materials OR a New Model Aviation Armament Materials\n¶Second choice: Either a Furniture Fairy OR a Daihatsu Landing Craft OR an Action Report\n\nFound ships in quest: [X] #1: Tatsuta Kai\n#### [[B114](https://en.kancollewiki.net/Quests#B114)] [X] __New CarDiv 4, Sortie at Full Strength!__\n**Sortie Ise Kai, Hyuuga Kai, Ooyodo Kai, at least 1 DD and up to 2 other ships to [W1-6-N], [W2-5], [W3-5] and [W4-5]. A-Rank+ all relevant boss nodes.**\n\n➣Rewards a 12cm 30-tube Rocket Launcher Kai Ni and either a New Model Artillery Armament Materials OR an Action Report\n\nFound ships in quest: [X] #1: Ise Kai, [X] #1: Hyuuga Kai, [X] Ooyodo Kai\n#### [[B122](https://en.kancollewiki.net/Quests#B122)] Elite CruDiv 4 2nd Platoon, Set Sail!\n**Sortie Choukai Kai Ni and Maya Kai Ni and up to 4 additional ships to [W1-4], [W2-3], [W3-3] and [W4-5]. S-Rank the boss nodes.**\n\n➣Rewards furniture and either two 12.7cm Twin High-angle Gun Mount (Late Model) OR 8 Buckets OR a Medal\n\nFound ships in quest: [X] #2: Maya Kai Ni, #2: Choukai Kai Ni\n#### [[B128](https://en.kancollewiki.net/Quests#B128)] [X] __Hiei's Sortie__\n**Sortie Hiei as flagship and up to 5 other ships to [W5-3] and [W5-4]. S-Rank the boss nodes of each.**\n\nRequiescat in pace.\n➣Rewards furniture and either an Action Report OR a Type 96 150cm Searchlight OR a Medal\n\nFound ships in quest: [X] Hiei\n#### [[B134](https://en.kancollewiki.net/Quests#B134)] [X] __Strengthening the Fleet Command Directorate (Execution Stage)__\n**Sortie Ooyodo as flagship, an AV or Akashi, and up to 4 additional ships to [W2-3], [W3-3] and [W4-1]. S-Rank each boss node twice.**\n\n➣Rewards a Headquarters Personnel and either a Furniture Box (Large) OR a Reinforcement Expansion OR a Medal\n\nFound ships in quest: [X] Akashi, [X] Ooyodo\n#### [[SB44](https://en.kancollewiki.net/Quests#SB44)] [X] __It's Spring! Sortie, DesDiv 31 Flagship Naganami!__\n**Sortie Naganami as flagship, any 3 of DesDiv31 and up to 2 additional ships to [W2-1] and [W2-2]. S-Rank each boss node twice. Sortie to [W5-4]. A-Rank+ the boss node.**\n\nDesDiv 31 members include Asashimo, Kishinami, Okinami and Takanami.\n➣Rewards:\n¶First choice: Either a Present Box OR three Furniture Boxes (Large)\n¶Second choice: Either two New Model Artillery Armament Materials OR a Medal OR an Action Report\n\nFound ships in quest: [X] Naganami\n#### [[B140](https://en.kancollewiki.net/Quests#B140)] [X] __\"Shall we put my Kai Ni to the test?\"__\n**Sortie Yuubari Kai Ni/Toku/D as flagship and up to 5 additional ships to [W2-5], [W3-3], [W5-3] and [W6-3]. S-Rank the boss nodes of each.**\n\n➣Rewards a 14cm Twin Gun Mount Kai and either two Type 2 Depth Charges OR two Daihatsu Landing Craft OR a Furniture Fairy\n\nFound ships in quest: [X] #2: Yuubari Kai Ni\n#### [[B142](https://en.kancollewiki.net/Quests#B142)] Reorganized DesDiv 31, Weigh Anchor!\n**Sortie Naganami, Kishinami, Asashimo, Okinami Kai Ni and up to two additional ships to [W1-3], [W1-4], [W1-5], [W2-2] and [W2-3]. S-Rank each boss node.**\n\n➣Rewards:\n¶First choice: Either three Underway Replenishments OR six Buckets OR two Combat Ration (Special Onigiri)\n¶Second choice: Either a New Model Artillery Armament Materials OR a New Model Rocket Development Materials OR Furniture: Okinami's Shelf\n\nFound ships in quest: [X] Naganami, Asashimo, [X] #2: Okinami Kai Ni, Kishinami\n#### [[B155](https://en.kancollewiki.net/Quests#B155)] Sortie, Heavy Cruiser Haguro! The Battle of the Malacca Strait\n**Sortie Haguro as flagship and up to 4 additional ships to [W7-3-E]. A-Rank+ boss node 4 times.**\n\nYour fleet cannot exceed 5 ships for this quest.\n➣Rewards a +6 20.3cm (No.3) Twin Gun Mount and either an Action Report OR a New Model Armament Materials\n\nFound ships in quest: Haguro\n#### [[B164](https://en.kancollewiki.net/Quests#B164)] [X] __Remodeled Cutting-Edge CL, Noshiro, Sortieing!__\n**Sortie Noshiro Kai Ni as flagship, 3 DD and up to 2 additional ships to [W2-4], [W3-2], [W5-3], [W7-1] and [W7-2-M]. S-Rank all relevant boss nodes.**\n\n➣Rewards a 15.2cm Twin Gun Mount Kai Ni and either two 15.2cm Twin Gun Mounts OR two 8cm High-angle Guns OR two 25mm Triple Autocannon Mounts\n\nFound ships in quest: [X] #2: Noshiro Kai Ni\n#### [[B166](https://en.kancollewiki.net/Quests#B166)] [X] __Remodeled Aviation Cruiser, Mogami, Setting Sail!__\n**Sortie Mogami Kai Ni+ as flagship to [W2-2], [W2-4], [W4-5] and [W5-1]. S-Rank all relevant boss nodes.**\n\n➣Rewards:\n¶First choice: Either a Medal OR eight Development Materials OR two Zuiun Model 12\n¶Second choice: Either a Furniture Fairy OR a Mamiya OR a Skilled Crew Member\n\nFound ships in quest: [X] #2: Mogami Kai Ni\n#### [[Bm4](https://en.kancollewiki.net/Quests#Bm4)] [X] __Monthly [W5-1]__\n**Sortie 3 BB(V) (Yamato-class, Nagato-class, Ise-class or Fusou-class ONLY), 1 CL and 2 additional ships to [W5-1]. S-Rank the boss node.**\n\n※Send a Surface Task Force Southward!\n➣Rewards 4 Screws\n\nFound ships in quest: [X] Fusou, [X] Ise, [X] Nagato, [X] Yamato\n#### [[By3](https://en.kancollewiki.net/Quests#By3)] [X] __Annual Akashi Fleet - March__\n**Sortie Akashi as flagship, 3 DDs and up to two additional ships to [W1-3], [W2-1], [W2-2], [W2-3] and [W1-6-N]. A-Rank+ all relevant boss nodes.**\n\nThis quest resets on the first quest reset of March.\n※Repair Ship Akashi Escort Mission\n➣Rewards an Underway Replenishment and either two Emergency Repair Materials OR five Buckets OR six Development Materials\n\nFound ships in quest: [X] Akashi\n#### [[C15](https://en.kancollewiki.net/Quests#C15)] [X] __A Project to Facilitate the Combat Readiness of the Type-A Destroyers__\n**Secure 3 S-Ranks in Exercises using 2+ Kagerou-class or Yuugumo-class DDs. Then, sortie to [W2-2], [W2-3], [W2-4] and [W2-5]. A-Rank+ the bosses.**\n\nUse the above Destroyer classes for the [W2] sorties as well.\nYou can use up to 4 other ships for this quest.\nYou must use fleet 1.\n➣Rewards:\n¶First choice: Either an Action Report OR a Furniture Fairy\n¶Second choice: Either 5 Buckets OR 2 Combat Rations\n\nFound ships in quest: [X] Kagerou, [X] Yuugumo\n#### [[C22](https://en.kancollewiki.net/Quests#C22)] [X] __Battle Carrier Lead Ship, Commence Exercises!__\n**Secure 3 victories in Exercises within the same day using Ise Kai Ni as flagship, 2 DD and up to 3 additional ships.**\n\n➣Rewards:\n¶First choice: Either two Suisei OR two Zuiun OR a Type 2 Reconnaissance Aircraft\n¶Second choice: Either two Type 22 Surface Radars OR two 12cm 30-tube Rocket Launchers OR a New Model Artillery Armament Materials\n\nFound ships in quest: [X] #2: Ise Kai Ni\n#### [[C25](https://en.kancollewiki.net/Quests#C25)] [X] __Asashio-class, Assemble! Commence Intensive Training!__\n**Secure 4 victories in Exercises within the same day using at least four of Asashio-class and up to 2 additional ships.**\n\n➣Rewards 3 Buckets and either 4 Development Materials OR a Type 3 Depth Charge Projectors OR a Furniture Fairy\n\nFound ships in quest: [X] Asashio\n#### [[C38](https://en.kancollewiki.net/Quests#C38)] Quarterly DesDiv 18 Exercises\n**Secure 3 S-Rank victories in Exercises within the same day using Arare, Kagerou, Kasumi, Shiranui and up to 2 additional ships.**\n\nThis quest resets on the first quest reset of March, June, September and December.\n※DesDiv 18 Exercises!\n➣Rewards a Mamiya and either a Daihatsu Landing Craft OR two 12cm 30-tube Rocket Launchers OR three Screws\n\nFound ships in quest: [X] Kagerou, Shiranui, Arare, [X] Kasumi\n#### [[C55](https://en.kancollewiki.net/Quests#C55)] Annual DesDiv 7 Exercises - March\n**Secure 3 A-Rank+ victories in Exercises within the same day using Akebono, Oboro, Sazanami, Ushio and up to 2 additional ships.**\n\nThis quest resets on the first quest reset of March.\n※Elite DesDiv 7, Commence Exercises!\n➣Rewards a Mamiya and either two Irako OR a New Model Armament Materials OR four Buckets\n\nFound ships in quest: [X] Akebono, [X] Ushio, [X] Oboro, Sazanami\n#### [[F18](https://en.kancollewiki.net/Quests#F18)] [X] __Daily Upgrade__\n**Attempt to upgrade a piece of equipment using Akashi's Improvement Arsenal. Failures count toward this.**\n\n※Intensive Improvement of Equipment\n➣Rewards a Screw\n\nFound ships in quest: [X] Akashi\n#### [[F27](https://en.kancollewiki.net/Quests#F27)] [X] __Model Conversion and Unit Restructuring: Iwai__\n**☣CAUTION☣ Set Zuikaku as secretary. Equip her with a >> Zero Fighter Model 52C (w/ Iwai Flight). Scrap two Type 0 Fighter Model 62s (Fighter-bomber).**\n\n✘Please do your research to determine whether this quest is beneficial for your fleet.\n✘Consumes the equipment. Make sure the equipped plane is unlocked!\n➣Rewards a Zero Fighter Model 62 (Fighter-bomber / Iwai Squadron)\n\nFound ships in quest: [X] Zuikaku\n#### [[F29](https://en.kancollewiki.net/Quests#F29)] [X] __Model Conversion: Iwamoto__\n**Set Zuikaku as secretary. Equip her with a >> Zero Fighter Model 21 (w/ Iwamoto Flight). Scrap two Type 0 Fighter Model 52.**\n\n✘Consumes the equipment. Make sure the equipped plane is unlocked!\n➣Rewards a Zero Fighter Model 52A (w/ Iwamoto Flight)\n\nFound ships in quest: [X] Zuikaku\n#### [[F35](https://en.kancollewiki.net/Quests#F35)] [X] __Quarterly Skilled Crew Member Training__\n**Have 2 Medals. Set Houshou as secretary. Equip her with a >> ★max Type 96 Fighter.**\n\nThis quest resets on the first quest reset of March, June, September and December.\n✘Consumes 2 Medals and the equipment. Make sure the equipped plane is unlocked!\n➣Rewards 4 Screws and a Skilled Crew Member\n\nFound ships in quest: [X] Houshou\n#### [[F36](https://en.kancollewiki.net/Quests#F36)] [X] __Development of a New Torpedo Armament__\n**Have 2 Medals. Set Shimakaze as secretary. Equip her with a ★max 61cm Quintuple Oxygen Torpedo Mount and a ★max 61cm Triple Oxygen Torpedo Mount.**\n\n✘Consumes 2 Medals and the equipment. Make sure the equipped torpedoes are unlocked!\n➣Rewards 6 Screws and a Prototype 61cm Sextuple (Oxygen) Torpedo Mount\n\nFound ships in quest: [X] Shimakaze\n#### [[F104](https://en.kancollewiki.net/Quests#F104)] [X] __Equipment deployment to support landing operations__\n**Have 8 Flamethrowers, 10 Dev. Materials and 800 steel. Set Shinshuu Maru as secretary with a ★max Daihatsu Landing Craft (Type 89 Medium Tank & Landing Force) in her 1st slot. Scrap 2 7.7mm Machine Gun and 2 Daihatsu Landing Craft.**\n\n✘Consumes the resources.\n➣Rewards a Soukoutei (Armored Boat Class)\n\nFound ships in quest: [X] Shinshuu Maru\n#### [[2204B1](https://en.kancollewiki.net/Quests#2204B1)] [Spring-Limited] The Springtime of Amatsukaze!\n**Sortie Amatsukaze as flagship, one of Tokitsukaze, Yukikaze or Hatsukaze as second ship, and up to 4 additional ships to [W2-2], [W2-3] and [W7-3-P]. A-Rank+ each boss node twice.**\n\n➣Rewards a Furniture Fairy and either six Buckets OR three Type 3 Depth Charge Projectors OR three Underway Replenishments\n\nFound ships in quest: [X] Yukikaze, [X] Amatsukaze, [X] Tokitsukaze, Hatsukaze"
     },
     "metadata": {},
     "output_type": "display_data"
    }
   ],
   "source": [
    "from IPython.display import Markdown, display\n",
    "from quests import quest_to_md\n",
    "\n",
    "output = []\n",
    "\n",
    "for q, ships in found.items():\n",
    "    quest_md = quest_to_md(q, h_lvl=4, mark=all(s[1] for s in ships))\n",
    "    ships_md = f'Found ships in quest: {\", \".join([f\"[X] {s[0]}\" if s[1] else s[0] for s in ships])}'\n",
    "    output.append(''.join((quest_md, ships_md)))\n",
    "\n",
    "display(Markdown('\\n'.join(output)))"
   ],
   "metadata": {
    "collapsed": false,
    "pycharm": {
     "name": "#%%\n"
    }
   }
  },
  {
   "cell_type": "code",
   "execution_count": null,
   "outputs": [],
   "source": [],
   "metadata": {
    "collapsed": false,
    "pycharm": {
     "name": "#%%\n"
    }
   }
  }
 ],
 "metadata": {
  "kernelspec": {
   "display_name": "Python 3",
   "language": "python",
   "name": "python3"
  },
  "language_info": {
   "codemirror_mode": {
    "name": "ipython",
    "version": 2
   },
   "file_extension": ".py",
   "mimetype": "text/x-python",
   "name": "python",
   "nbconvert_exporter": "python",
   "pygments_lexer": "ipython2",
   "version": "2.7.6"
  }
 },
 "nbformat": 4,
 "nbformat_minor": 0
}